{
 "cells": [
  {
   "cell_type": "markdown",
   "id": "772d1cef-8ef8-4fa6-956e-c285b56c1dd4",
   "metadata": {},
   "source": [
    "### SALES ANALYSIS "
   ]
  },
  {
   "cell_type": "markdown",
   "id": "93727faa-b1c8-4749-a7bb-59e2f920a7b3",
   "metadata": {},
   "source": [
    "Step 1: Create a DataFrame from the list of dictionaries below:\n",
    "    \n",
    "- [{'product_id':23, 'name':'computer', 'wholesale_price': 500, 'retail_price':1000, 'sales':100},\n",
    "- {'product_id':96, 'name':'Python Workout', 'wholesale_price': 35,'retail_price':75, 'sales':1000},\n",
    "- {'product_id':97, 'name':'Pandas Workout', 'wholesale_price': 35, 'retail_price':75, 'sales':500},\n",
    "- {'product_id':15, 'name':'banana', 'wholesale_price': 0.5,'retail_price':1, 'sales':200},\n",
    "- {'product_id':87, 'name':'sandwich', 'wholesale_price': 3,'retail_price':5, 'sales':300}]\n",
    "\n",
    "\n",
    "Step 2: Calculate the Total Profit for each product using the formula\n",
    "\n",
    "net_revenue_per_product = (retail_price - wholesale price) * sales\n",
    "\n",
    "Step 3: Determine the following\n",
    "- How much total net revenue you received from all of these sales?\n",
    "- What product is product retail price more than twice the wholesale price?\n",
    "- How much did the store make from food vs. computers vs. books?\n",
    "- Because your store is doing so well, you're able to negotiate a 30% discount on the wholesale\n",
    "price of goods. Calculate the new net revenue\n",
    "- Our local government is thinking about imposing a\n",
    "sales tax, and is thinking about 15, 20, and 25 percent rates.\n",
    "- Show how much less you would net with each of these tax amounts by adding columns to the\n",
    "data frame for current income, as well."
   ]
  },
  {
   "cell_type": "code",
   "execution_count": 12,
   "id": "d395f7d6-ff5e-4c71-9309-d122b4db0dc4",
   "metadata": {
    "tags": []
   },
   "outputs": [],
   "source": []
  },
  {
   "cell_type": "code",
   "execution_count": 81,
   "id": "ff3a5edd-df57-46ed-a58d-650724af32a4",
   "metadata": {
    "tags": []
   },
   "outputs": [],
   "source": [
    "import numpy as np\n",
    "import pandas as pd\n",
    "import matplotlib as mpl\n",
    "import matplotlib.pyplot as plt"
   ]
  },
  {
   "cell_type": "code",
   "execution_count": 82,
   "id": "158b182b-af41-4c65-beaa-57f0bf0a8070",
   "metadata": {
    "tags": []
   },
   "outputs": [
    {
     "data": {
      "text/html": [
       "<div>\n",
       "<style scoped>\n",
       "    .dataframe tbody tr th:only-of-type {\n",
       "        vertical-align: middle;\n",
       "    }\n",
       "\n",
       "    .dataframe tbody tr th {\n",
       "        vertical-align: top;\n",
       "    }\n",
       "\n",
       "    .dataframe thead th {\n",
       "        text-align: right;\n",
       "    }\n",
       "</style>\n",
       "<table border=\"1\" class=\"dataframe\">\n",
       "  <thead>\n",
       "    <tr style=\"text-align: right;\">\n",
       "      <th></th>\n",
       "      <th>Product_id</th>\n",
       "      <th>Name</th>\n",
       "      <th>Wholesale_price</th>\n",
       "      <th>Retail_price</th>\n",
       "      <th>Sales</th>\n",
       "    </tr>\n",
       "  </thead>\n",
       "  <tbody>\n",
       "    <tr>\n",
       "      <th>0</th>\n",
       "      <td>23</td>\n",
       "      <td>Computer</td>\n",
       "      <td>500.0</td>\n",
       "      <td>1000</td>\n",
       "      <td>100</td>\n",
       "    </tr>\n",
       "    <tr>\n",
       "      <th>1</th>\n",
       "      <td>96</td>\n",
       "      <td>Python Workout</td>\n",
       "      <td>35.0</td>\n",
       "      <td>75</td>\n",
       "      <td>1000</td>\n",
       "    </tr>\n",
       "    <tr>\n",
       "      <th>2</th>\n",
       "      <td>97</td>\n",
       "      <td>Pandas Workout</td>\n",
       "      <td>35.0</td>\n",
       "      <td>75</td>\n",
       "      <td>500</td>\n",
       "    </tr>\n",
       "    <tr>\n",
       "      <th>3</th>\n",
       "      <td>15</td>\n",
       "      <td>Banana</td>\n",
       "      <td>0.5</td>\n",
       "      <td>1</td>\n",
       "      <td>200</td>\n",
       "    </tr>\n",
       "    <tr>\n",
       "      <th>4</th>\n",
       "      <td>87</td>\n",
       "      <td>Sandwich</td>\n",
       "      <td>3.0</td>\n",
       "      <td>5</td>\n",
       "      <td>300</td>\n",
       "    </tr>\n",
       "  </tbody>\n",
       "</table>\n",
       "</div>"
      ],
      "text/plain": [
       "   Product_id            Name  Wholesale_price  Retail_price  Sales\n",
       "0          23        Computer            500.0          1000    100\n",
       "1          96  Python Workout             35.0            75   1000\n",
       "2          97  Pandas Workout             35.0            75    500\n",
       "3          15          Banana              0.5             1    200\n",
       "4          87        Sandwich              3.0             5    300"
      ]
     },
     "execution_count": 82,
     "metadata": {},
     "output_type": "execute_result"
    }
   ],
   "source": [
    "# Step 1: Create a DataFrame from the list of dictionaries below: \n",
    "\n",
    "# List of dictionaries\n",
    "data = [\n",
    "    {'Product_id':23, 'Name':'Computer', 'Wholesale_price': 500, 'Retail_price':1000, 'Sales':100},\n",
    "    {'Product_id':96, 'Name':'Python Workout', 'Wholesale_price': 35,'Retail_price':75, 'Sales':1000},\n",
    "    {'Product_id':97, 'Name':'Pandas Workout', 'Wholesale_price': 35, 'Retail_price':75, 'Sales':500},\n",
    "    {'Product_id':15, 'Name':'Banana', 'Wholesale_price': 0.5,'Retail_price':1, 'Sales':200},\n",
    "    {'Product_id':87, 'Name':'Sandwich', 'Wholesale_price': 3,'Retail_price':5, 'Sales':300}\n",
    "]\n",
    "\n",
    "# Displaying DataFrame\n",
    "\n",
    "df = pd.DataFrame(data)\n",
    "df"
   ]
  },
  {
   "cell_type": "code",
   "execution_count": 83,
   "id": "0ec2aca4-1c08-453c-af0c-c527c5682225",
   "metadata": {
    "tags": []
   },
   "outputs": [
    {
     "data": {
      "text/html": [
       "<div>\n",
       "<style scoped>\n",
       "    .dataframe tbody tr th:only-of-type {\n",
       "        vertical-align: middle;\n",
       "    }\n",
       "\n",
       "    .dataframe tbody tr th {\n",
       "        vertical-align: top;\n",
       "    }\n",
       "\n",
       "    .dataframe thead th {\n",
       "        text-align: right;\n",
       "    }\n",
       "</style>\n",
       "<table border=\"1\" class=\"dataframe\">\n",
       "  <thead>\n",
       "    <tr style=\"text-align: right;\">\n",
       "      <th></th>\n",
       "      <th>Product_id</th>\n",
       "      <th>Name</th>\n",
       "      <th>Wholesale_price</th>\n",
       "      <th>Retail_price</th>\n",
       "      <th>Sales</th>\n",
       "      <th>Net_Revenue_Per_Product</th>\n",
       "    </tr>\n",
       "  </thead>\n",
       "  <tbody>\n",
       "    <tr>\n",
       "      <th>0</th>\n",
       "      <td>23</td>\n",
       "      <td>Computer</td>\n",
       "      <td>500.0</td>\n",
       "      <td>1000</td>\n",
       "      <td>100</td>\n",
       "      <td>50000.0</td>\n",
       "    </tr>\n",
       "    <tr>\n",
       "      <th>1</th>\n",
       "      <td>96</td>\n",
       "      <td>Python Workout</td>\n",
       "      <td>35.0</td>\n",
       "      <td>75</td>\n",
       "      <td>1000</td>\n",
       "      <td>40000.0</td>\n",
       "    </tr>\n",
       "    <tr>\n",
       "      <th>2</th>\n",
       "      <td>97</td>\n",
       "      <td>Pandas Workout</td>\n",
       "      <td>35.0</td>\n",
       "      <td>75</td>\n",
       "      <td>500</td>\n",
       "      <td>20000.0</td>\n",
       "    </tr>\n",
       "    <tr>\n",
       "      <th>3</th>\n",
       "      <td>15</td>\n",
       "      <td>Banana</td>\n",
       "      <td>0.5</td>\n",
       "      <td>1</td>\n",
       "      <td>200</td>\n",
       "      <td>100.0</td>\n",
       "    </tr>\n",
       "    <tr>\n",
       "      <th>4</th>\n",
       "      <td>87</td>\n",
       "      <td>Sandwich</td>\n",
       "      <td>3.0</td>\n",
       "      <td>5</td>\n",
       "      <td>300</td>\n",
       "      <td>600.0</td>\n",
       "    </tr>\n",
       "  </tbody>\n",
       "</table>\n",
       "</div>"
      ],
      "text/plain": [
       "   Product_id            Name  Wholesale_price  Retail_price  Sales  \\\n",
       "0          23        Computer            500.0          1000    100   \n",
       "1          96  Python Workout             35.0            75   1000   \n",
       "2          97  Pandas Workout             35.0            75    500   \n",
       "3          15          Banana              0.5             1    200   \n",
       "4          87        Sandwich              3.0             5    300   \n",
       "\n",
       "   Net_Revenue_Per_Product  \n",
       "0                  50000.0  \n",
       "1                  40000.0  \n",
       "2                  20000.0  \n",
       "3                    100.0  \n",
       "4                    600.0  "
      ]
     },
     "execution_count": 83,
     "metadata": {},
     "output_type": "execute_result"
    }
   ],
   "source": [
    "# Step 2: Calculate the Total Profit for each product using the formula\n",
    "\n",
    "# Calculating net revenue per product\n",
    "df['Net_Revenue_Per_Product'] = (df['Retail_price'] - df['Wholesale_price']) * df['Sales']\n",
    "\n",
    "# Print the updated DataFrame\n",
    "df"
   ]
  },
  {
   "cell_type": "code",
   "execution_count": 84,
   "id": "b9a6aa5d-7f5f-4bb2-931c-4c539f7b9dd8",
   "metadata": {
    "tags": []
   },
   "outputs": [
    {
     "data": {
      "image/png": "[encoded data removed]",
      "text/plain": [
       "<Figure size 1000x600 with 1 Axes>"
      ]
     },
     "metadata": {},
     "output_type": "display_data"
    }
   ],
   "source": [
    "# Visualize Profit for each product\n",
    "total_revenue_by_product = df.groupby('Name')['Net_Revenue_Per_Product'].sum()\n",
    "\n",
    "# Create a bar plot\n",
    "plt.figure(figsize=(10, 6))\n",
    "plt.bar(total_revenue_by_product.index, total_revenue_by_product.values, color='blue')\n",
    "\n",
    "plt.xlabel('Product')\n",
    "plt.ylabel('Total Net Revenue')\n",
    "plt.title('Total Net Revenue by Product')\n",
    "plt.show()"
   ]
  },
  {
   "cell_type": "code",
   "execution_count": 86,
   "id": "1e5d75c0-f58f-4871-8556-7bcf91e5cd30",
   "metadata": {
    "tags": []
   },
   "outputs": [
    {
     "name": "stdout",
     "output_type": "stream",
     "text": [
      "The Total Net Revenue from all sales is 110700.0.\n"
     ]
    }
   ],
   "source": [
    "# Step 3.a. How much total net revenue you received from all of these sales?\n",
    "\n",
    "# Calculating total net revenue\n",
    "total_net_revenue = df['Net_Revenue_Per_Product'].sum()\n",
    "print(f'The Total Net Revenue from all sales is {total_net_revenue}.')\n"
   ]
  },
  {
   "cell_type": "code",
   "execution_count": 87,
   "id": "fb931a13-6d94-4697-a004-aa207c5c7bc9",
   "metadata": {
    "tags": []
   },
   "outputs": [
    {
     "name": "stdout",
     "output_type": "stream",
     "text": [
      "   Product_id            Name  Wholesale_price  Retail_price  Sales  \\\n",
      "1          96  Python Workout             35.0            75   1000   \n",
      "2          97  Pandas Workout             35.0            75    500   \n",
      "\n",
      "   Net_Revenue_Per_Product  \n",
      "1                  40000.0  \n",
      "2                  20000.0  \n",
      "\n",
      "Products with Retail Price more than Twice the Wholesale Price: ['Python Workout', 'Pandas Workout']\n"
     ]
    }
   ],
   "source": [
    "# Step 3.b. What product is product retail price more than twice the wholesale price?\n",
    "\n",
    "# Filtering DataFrame\n",
    "df_filtered = df[df['Retail_price'] > 2 * df['Wholesale_price']]\n",
    "\n",
    "# Print filtered DataFrame\n",
    "print(df_filtered)\n",
    "\n",
    "df['Price_Ratio'] = df['Retail_price'] / df['Wholesale_price']\n",
    "product_more_than_twice = df[df['Price_Ratio'] > 2]['Name'].tolist()\n",
    "print('')\n",
    "print(\"Products with Retail Price more than Twice the Wholesale Price:\", product_more_than_twice)\n"
   ]
  },
  {
   "cell_type": "code",
   "execution_count": 88,
   "id": "f2434512-722b-401c-b763-d747a5c865bd",
   "metadata": {
    "tags": []
   },
   "outputs": [
    {
     "data": {
      "text/html": [
       "<div>\n",
       "<style scoped>\n",
       "    .dataframe tbody tr th:only-of-type {\n",
       "        vertical-align: middle;\n",
       "    }\n",
       "\n",
       "    .dataframe tbody tr th {\n",
       "        vertical-align: top;\n",
       "    }\n",
       "\n",
       "    .dataframe thead th {\n",
       "        text-align: right;\n",
       "    }\n",
       "</style>\n",
       "<table border=\"1\" class=\"dataframe\">\n",
       "  <thead>\n",
       "    <tr style=\"text-align: right;\">\n",
       "      <th></th>\n",
       "      <th>Product_id</th>\n",
       "      <th>Name</th>\n",
       "      <th>Wholesale_price</th>\n",
       "      <th>Retail_price</th>\n",
       "      <th>Sales</th>\n",
       "      <th>Net_Revenue_Per_Product</th>\n",
       "      <th>Price_Ratio</th>\n",
       "      <th>Category</th>\n",
       "    </tr>\n",
       "  </thead>\n",
       "  <tbody>\n",
       "    <tr>\n",
       "      <th>0</th>\n",
       "      <td>23</td>\n",
       "      <td>Computer</td>\n",
       "      <td>500.0</td>\n",
       "      <td>1000</td>\n",
       "      <td>100</td>\n",
       "      <td>50000.0</td>\n",
       "      <td>2.000000</td>\n",
       "      <td>computers</td>\n",
       "    </tr>\n",
       "    <tr>\n",
       "      <th>1</th>\n",
       "      <td>96</td>\n",
       "      <td>Python Workout</td>\n",
       "      <td>35.0</td>\n",
       "      <td>75</td>\n",
       "      <td>1000</td>\n",
       "      <td>40000.0</td>\n",
       "      <td>2.142857</td>\n",
       "      <td>books</td>\n",
       "    </tr>\n",
       "    <tr>\n",
       "      <th>2</th>\n",
       "      <td>97</td>\n",
       "      <td>Pandas Workout</td>\n",
       "      <td>35.0</td>\n",
       "      <td>75</td>\n",
       "      <td>500</td>\n",
       "      <td>20000.0</td>\n",
       "      <td>2.142857</td>\n",
       "      <td>books</td>\n",
       "    </tr>\n",
       "    <tr>\n",
       "      <th>3</th>\n",
       "      <td>15</td>\n",
       "      <td>Banana</td>\n",
       "      <td>0.5</td>\n",
       "      <td>1</td>\n",
       "      <td>200</td>\n",
       "      <td>100.0</td>\n",
       "      <td>2.000000</td>\n",
       "      <td>food</td>\n",
       "    </tr>\n",
       "    <tr>\n",
       "      <th>4</th>\n",
       "      <td>87</td>\n",
       "      <td>Sandwich</td>\n",
       "      <td>3.0</td>\n",
       "      <td>5</td>\n",
       "      <td>300</td>\n",
       "      <td>600.0</td>\n",
       "      <td>1.666667</td>\n",
       "      <td>food</td>\n",
       "    </tr>\n",
       "  </tbody>\n",
       "</table>\n",
       "</div>"
      ],
      "text/plain": [
       "   Product_id            Name  Wholesale_price  Retail_price  Sales  \\\n",
       "0          23        Computer            500.0          1000    100   \n",
       "1          96  Python Workout             35.0            75   1000   \n",
       "2          97  Pandas Workout             35.0            75    500   \n",
       "3          15          Banana              0.5             1    200   \n",
       "4          87        Sandwich              3.0             5    300   \n",
       "\n",
       "   Net_Revenue_Per_Product  Price_Ratio   Category  \n",
       "0                  50000.0     2.000000  computers  \n",
       "1                  40000.0     2.142857      books  \n",
       "2                  20000.0     2.142857      books  \n",
       "3                    100.0     2.000000       food  \n",
       "4                    600.0     1.666667       food  "
      ]
     },
     "execution_count": 88,
     "metadata": {},
     "output_type": "execute_result"
    }
   ],
   "source": [
    "# Step 3.c. How much did the store make from food vs. computers vs. books?\n",
    "\n",
    "# Define a dictionary to map product names to categories\n",
    "category_dict = {\n",
    "    'Computer': 'computers',\n",
    "    'Python Workout': 'books',\n",
    "    'Pandas Workout': 'books',\n",
    "    'Banana': 'food',\n",
    "    'Sandwich': 'food'\n",
    "}\n",
    "\n",
    "# Create a new 'Category' column by mapping the 'Name' column to the category dictionary\n",
    "df['Category'] = df['Name'].map(category_dict)\n",
    "\n",
    "df"
   ]
  },
  {
   "cell_type": "code",
   "execution_count": 89,
   "id": "38326c7c-3195-4211-afe0-591628381ac5",
   "metadata": {
    "tags": []
   },
   "outputs": [
    {
     "name": "stdout",
     "output_type": "stream",
     "text": [
      "Total net revenue from food sales: 700.0\n",
      "Total net revenue from computer sales: 50000.0\n",
      "Total net revenue from book sales: 60000.0\n"
     ]
    }
   ],
   "source": [
    "# Group by category and calculate total net revenue for each\n",
    "total_revenue_by_category = df.groupby('Category')['Net_Revenue_Per_Product'].sum()\n",
    "\n",
    "# Print total net revenue for food, computers, and books\n",
    "print(f\"Total net revenue from food sales: {total_revenue_by_category['food']}\")\n",
    "print(f\"Total net revenue from computer sales: {total_revenue_by_category['computers']}\")\n",
    "print(f\"Total net revenue from book sales: {total_revenue_by_category['books']}\")\n"
   ]
  },
  {
   "cell_type": "code",
   "execution_count": 90,
   "id": "ea49ee4f-f182-4fd8-bad8-7cd317a15c71",
   "metadata": {
    "tags": []
   },
   "outputs": [
    {
     "data": {
      "image/png": "[encoded data removed]",
      "text/plain": [
       "<Figure size 1000x600 with 1 Axes>"
      ]
     },
     "metadata": {},
     "output_type": "display_data"
    }
   ],
   "source": [
    "# Visualize how much the store made from food vs. computers vs. books\n",
    "total_revenue_by_category = df.groupby('Category')['Net_Revenue_Per_Product'].sum()\n",
    "\n",
    "# Creating a pie chart\n",
    "plt.figure(figsize=(10, 6))\n",
    "plt.pie(total_revenue_by_category.values, labels=total_revenue_by_category.index, autopct='%1.1f%%')\n",
    "\n",
    "plt.title('Total Net Revenue by Category')\n",
    "plt.show()"
   ]
  },
  {
   "cell_type": "code",
   "execution_count": 92,
   "id": "c9d446a7-6d70-485f-bd42-cca2fe10879a",
   "metadata": {
    "tags": []
   },
   "outputs": [
    {
     "name": "stdout",
     "output_type": "stream",
     "text": [
      "The total new net revenue from all sales is 141750.0.\n"
     ]
    }
   ],
   "source": [
    "# Step 3.d.Because your store is doing so well, you're able to negotiate a 30% discount on the wholesale price of goods. Calculate the new net revenue\n",
    "\n",
    "# Appling 30% discount on wholesale price\n",
    "df['Discounted_Wholesale_Price'] = df['Wholesale_price'] * 0.7\n",
    "\n",
    "# Calculate new net revenue per product\n",
    "df['New_Net_Revenue_Per_Product'] = (df['Retail_price'] - df['Discounted_Wholesale_Price']) * df['Sales']\n",
    "\n",
    "# Calculate total new net revenue\n",
    "total_new_net_revenue = df['New_Net_Revenue_Per_Product'].sum()\n",
    "\n",
    "print(f'The total new net revenue from all sales is {total_new_net_revenue}.')\n"
   ]
  },
  {
   "cell_type": "code",
   "execution_count": 93,
   "id": "6af1c54e-101e-41c2-a42e-76aad66d4c60",
   "metadata": {
    "tags": []
   },
   "outputs": [
    {
     "name": "stdout",
     "output_type": "stream",
     "text": [
      "   Product_id            Name  Wholesale_price  Retail_price  Sales  \\\n",
      "0          23        Computer            500.0          1000    100   \n",
      "1          96  Python Workout             35.0            75   1000   \n",
      "2          97  Pandas Workout             35.0            75    500   \n",
      "3          15          Banana              0.5             1    200   \n",
      "4          87        Sandwich              3.0             5    300   \n",
      "\n",
      "   Net_Revenue_Per_Product  Price_Ratio   Category  \\\n",
      "0                  50000.0     2.000000  computers   \n",
      "1                  40000.0     2.142857      books   \n",
      "2                  20000.0     2.142857      books   \n",
      "3                    100.0     2.000000       food   \n",
      "4                    600.0     1.666667       food   \n",
      "\n",
      "   Discounted_Wholesale_Price  New_Net_Revenue_Per_Product  Current_Income  \\\n",
      "0                      350.00                      65000.0         65000.0   \n",
      "1                       24.50                      50500.0         50500.0   \n",
      "2                       24.50                      25250.0         25250.0   \n",
      "3                        0.35                        130.0           130.0   \n",
      "4                        2.10                        870.0           870.0   \n",
      "\n",
      "   15%_Tax  20%_Tax  25%_Tax  \n",
      "0   9750.0  13000.0  16250.0  \n",
      "1   7575.0  10100.0  12625.0  \n",
      "2   3787.5   5050.0   6312.5  \n",
      "3     19.5     26.0     32.5  \n",
      "4    130.5    174.0    217.5  \n"
     ]
    }
   ],
   "source": [
    "# Step 3.e.Our local government is thinking about imposing a sales tax, and is thinking about 15, 20, and 25 percent rates.\n",
    "# Show how much less you would net with each of these tax amounts by adding columns to the data frame for current income, as well.\n",
    "\n",
    "# Calculate current income without tax\n",
    "df['Current_Income'] = df['New_Net_Revenue_Per_Product']\n",
    "\n",
    "# Calculate net revenue after applying 15% sales tax\n",
    "df['15%_Tax'] = df['Current_Income'] * (0.15)\n",
    "\n",
    "# Calculate net revenue after applying 20% sales tax\n",
    "df['20%_Tax'] = df['Current_Income'] * (0.20)\n",
    "\n",
    "# Calculate net revenue after applying 25% sales tax\n",
    "df['25%_Tax'] = df['Current_Income'] * (0.25)\n",
    "\n",
    "# Print the updated DataFrame\n",
    "print(df)\n"
   ]
  },
  {
   "cell_type": "code",
   "execution_count": 94,
   "id": "82b20bfb-5736-48ed-b6a9-1761d103c5b8",
   "metadata": {
    "tags": []
   },
   "outputs": [
    {
     "data": {
      "text/html": [
       "<div>\n",
       "<style scoped>\n",
       "    .dataframe tbody tr th:only-of-type {\n",
       "        vertical-align: middle;\n",
       "    }\n",
       "\n",
       "    .dataframe tbody tr th {\n",
       "        vertical-align: top;\n",
       "    }\n",
       "\n",
       "    .dataframe thead th {\n",
       "        text-align: right;\n",
       "    }\n",
       "</style>\n",
       "<table border=\"1\" class=\"dataframe\">\n",
       "  <thead>\n",
       "    <tr style=\"text-align: right;\">\n",
       "      <th></th>\n",
       "      <th>Product_id</th>\n",
       "      <th>Name</th>\n",
       "      <th>Wholesale_price</th>\n",
       "      <th>Retail_price</th>\n",
       "      <th>Sales</th>\n",
       "      <th>Net_Revenue_Per_Product</th>\n",
       "      <th>Price_Ratio</th>\n",
       "      <th>Category</th>\n",
       "      <th>Discounted_Wholesale_Price</th>\n",
       "      <th>New_Net_Revenue_Per_Product</th>\n",
       "      <th>Current_Income</th>\n",
       "      <th>15%_Tax</th>\n",
       "      <th>20%_Tax</th>\n",
       "      <th>25%_Tax</th>\n",
       "      <th>Net_Revenue_after_15%_Tax</th>\n",
       "      <th>Net_Revenue_after_20%_Tax</th>\n",
       "      <th>Net_Revenue_after_25%_Tax</th>\n",
       "    </tr>\n",
       "  </thead>\n",
       "  <tbody>\n",
       "    <tr>\n",
       "      <th>0</th>\n",
       "      <td>23</td>\n",
       "      <td>Computer</td>\n",
       "      <td>500.0</td>\n",
       "      <td>1000</td>\n",
       "      <td>100</td>\n",
       "      <td>50000.0</td>\n",
       "      <td>2.000000</td>\n",
       "      <td>computers</td>\n",
       "      <td>350.00</td>\n",
       "      <td>65000.0</td>\n",
       "      <td>65000.0</td>\n",
       "      <td>9750.0</td>\n",
       "      <td>13000.0</td>\n",
       "      <td>16250.0</td>\n",
       "      <td>55250.0</td>\n",
       "      <td>52000.0</td>\n",
       "      <td>48750.0</td>\n",
       "    </tr>\n",
       "    <tr>\n",
       "      <th>1</th>\n",
       "      <td>96</td>\n",
       "      <td>Python Workout</td>\n",
       "      <td>35.0</td>\n",
       "      <td>75</td>\n",
       "      <td>1000</td>\n",
       "      <td>40000.0</td>\n",
       "      <td>2.142857</td>\n",
       "      <td>books</td>\n",
       "      <td>24.50</td>\n",
       "      <td>50500.0</td>\n",
       "      <td>50500.0</td>\n",
       "      <td>7575.0</td>\n",
       "      <td>10100.0</td>\n",
       "      <td>12625.0</td>\n",
       "      <td>42925.0</td>\n",
       "      <td>40400.0</td>\n",
       "      <td>37875.0</td>\n",
       "    </tr>\n",
       "    <tr>\n",
       "      <th>2</th>\n",
       "      <td>97</td>\n",
       "      <td>Pandas Workout</td>\n",
       "      <td>35.0</td>\n",
       "      <td>75</td>\n",
       "      <td>500</td>\n",
       "      <td>20000.0</td>\n",
       "      <td>2.142857</td>\n",
       "      <td>books</td>\n",
       "      <td>24.50</td>\n",
       "      <td>25250.0</td>\n",
       "      <td>25250.0</td>\n",
       "      <td>3787.5</td>\n",
       "      <td>5050.0</td>\n",
       "      <td>6312.5</td>\n",
       "      <td>21462.5</td>\n",
       "      <td>20200.0</td>\n",
       "      <td>18937.5</td>\n",
       "    </tr>\n",
       "    <tr>\n",
       "      <th>3</th>\n",
       "      <td>15</td>\n",
       "      <td>Banana</td>\n",
       "      <td>0.5</td>\n",
       "      <td>1</td>\n",
       "      <td>200</td>\n",
       "      <td>100.0</td>\n",
       "      <td>2.000000</td>\n",
       "      <td>food</td>\n",
       "      <td>0.35</td>\n",
       "      <td>130.0</td>\n",
       "      <td>130.0</td>\n",
       "      <td>19.5</td>\n",
       "      <td>26.0</td>\n",
       "      <td>32.5</td>\n",
       "      <td>110.5</td>\n",
       "      <td>104.0</td>\n",
       "      <td>97.5</td>\n",
       "    </tr>\n",
       "    <tr>\n",
       "      <th>4</th>\n",
       "      <td>87</td>\n",
       "      <td>Sandwich</td>\n",
       "      <td>3.0</td>\n",
       "      <td>5</td>\n",
       "      <td>300</td>\n",
       "      <td>600.0</td>\n",
       "      <td>1.666667</td>\n",
       "      <td>food</td>\n",
       "      <td>2.10</td>\n",
       "      <td>870.0</td>\n",
       "      <td>870.0</td>\n",
       "      <td>130.5</td>\n",
       "      <td>174.0</td>\n",
       "      <td>217.5</td>\n",
       "      <td>739.5</td>\n",
       "      <td>696.0</td>\n",
       "      <td>652.5</td>\n",
       "    </tr>\n",
       "  </tbody>\n",
       "</table>\n",
       "</div>"
      ],
      "text/plain": [
       "   Product_id            Name  Wholesale_price  Retail_price  Sales  \\\n",
       "0          23        Computer            500.0          1000    100   \n",
       "1          96  Python Workout             35.0            75   1000   \n",
       "2          97  Pandas Workout             35.0            75    500   \n",
       "3          15          Banana              0.5             1    200   \n",
       "4          87        Sandwich              3.0             5    300   \n",
       "\n",
       "   Net_Revenue_Per_Product  Price_Ratio   Category  \\\n",
       "0                  50000.0     2.000000  computers   \n",
       "1                  40000.0     2.142857      books   \n",
       "2                  20000.0     2.142857      books   \n",
       "3                    100.0     2.000000       food   \n",
       "4                    600.0     1.666667       food   \n",
       "\n",
       "   Discounted_Wholesale_Price  New_Net_Revenue_Per_Product  Current_Income  \\\n",
       "0                      350.00                      65000.0         65000.0   \n",
       "1                       24.50                      50500.0         50500.0   \n",
       "2                       24.50                      25250.0         25250.0   \n",
       "3                        0.35                        130.0           130.0   \n",
       "4                        2.10                        870.0           870.0   \n",
       "\n",
       "   15%_Tax  20%_Tax  25%_Tax  Net_Revenue_after_15%_Tax  \\\n",
       "0   9750.0  13000.0  16250.0                    55250.0   \n",
       "1   7575.0  10100.0  12625.0                    42925.0   \n",
       "2   3787.5   5050.0   6312.5                    21462.5   \n",
       "3     19.5     26.0     32.5                      110.5   \n",
       "4    130.5    174.0    217.5                      739.5   \n",
       "\n",
       "   Net_Revenue_after_20%_Tax  Net_Revenue_after_25%_Tax  \n",
       "0                    52000.0                    48750.0  \n",
       "1                    40400.0                    37875.0  \n",
       "2                    20200.0                    18937.5  \n",
       "3                      104.0                       97.5  \n",
       "4                      696.0                      652.5  "
      ]
     },
     "execution_count": 94,
     "metadata": {},
     "output_type": "execute_result"
    }
   ],
   "source": [
    "# Calculate the net revenue with different sales tax rates\n",
    "tax_rates = [0.15, 0.20, 0.25]\n",
    "for rate in tax_rates:\n",
    "    column_name = f'Net_Revenue_after_{int(rate*100)}%_Tax'\n",
    "    df[column_name] = df['New_Net_Revenue_Per_Product'] * (1 - rate)\n",
    "\n",
    "# Displaying the updated DataFrame\n",
    "df"
   ]
  },
  {
   "cell_type": "code",
   "execution_count": null,
   "id": "3b897ac4-cd4e-4069-9da7-3d88a3731602",
   "metadata": {},
   "outputs": [],
   "source": []
  }
 ],
 "metadata": {
  "kernelspec": {
   "display_name": "Python 3 (ipykernel)",
   "language": "python",
   "name": "python3"
  },
  "language_info": {
   "codemirror_mode": {
    "name": "ipython",
    "version": 3
   },
   "file_extension": ".py",
   "mimetype": "text/x-python",
   "name": "python",
   "nbconvert_exporter": "python",
   "pygments_lexer": "ipython3",
   "version": "3.11.5"
  }
 },
 "nbformat": 4,
 "nbformat_minor": 5
}
